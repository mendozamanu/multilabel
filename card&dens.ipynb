{
 "cells": [
  {
   "cell_type": "code",
   "execution_count": 1,
   "metadata": {},
   "outputs": [],
   "source": [
    "def cardinality(datafilename):\n",
    "    print (\"Computing the cardinality & density of the chosen dataset...\")\n",
    "    datafilename=\"./datasets/\"+datafilename+\"/\"+datafilename+\".complete\"\n",
    "    datafile=open(datafilename)\n",
    "    l0=datafile.readline()\n",
    "    l1=datafile.readline()\n",
    "    l2=datafile.readline()\n",
    "    l3=datafile.readline()\n",
    "    instances=int(l1.split()[1])\n",
    "    #print instances\n",
    "    features=int(l2.split()[1])\n",
    "    #print features\n",
    "    labels=int(l3.split()[1])\n",
    "    #print labels\n",
    "\n",
    "    l4=datafile.readline()\n",
    "\n",
    "    avg=0\n",
    "    dist=[]\n",
    "    while l4 != \"\":\n",
    "        if(l4 == ' '):\n",
    "            pass\n",
    "        else:  \n",
    "            label = map(int, l4.strip().split())\n",
    "            dist.append(''.join(map(str, l4.strip().split())))\n",
    "            #print dist\n",
    "            avg += sum(label)\n",
    "            #print avg\n",
    "\n",
    "        l4=datafile.readline()\n",
    "    \n",
    "    dist=set(dist)\n",
    "    #print dist\n",
    "     \n",
    "    print (\"Cardinality: \")\n",
    "    card = avg/(instances*1.0)\n",
    "    print card\n",
    "    \n",
    "    print (\"Density: \")\n",
    "    print card/(labels*1.0)\n",
    "\n",
    "    print(\"Distinct: \")\n",
    "    print len(dist)\n",
    "   \n",
    "    datafile.close()\n",
    "    #Division on python 2.7 returns int by default, \n",
    "    #in python3 it returns float so we have to \"force\" float div on python2.7"
   ]
  },
  {
   "cell_type": "code",
   "execution_count": 2,
   "metadata": {
    "scrolled": true
   },
   "outputs": [
    {
     "name": "stdout",
     "output_type": "stream",
     "text": [
      "Computing the cardinality & density of the chosen dataset...\n",
      "Cardinality: \n",
      "1.86846543002\n",
      "Density: \n",
      "0.311410905003\n",
      "Distinct: \n",
      "27\n"
     ]
    }
   ],
   "source": [
    "#Change dataset name or add a loop for getting the measures of the desired datasets\n",
    "#Note: need to have created the .complete file before -> multilabel-convert.py\n",
    "cardinality(\"emotions\")"
   ]
  },
  {
   "cell_type": "code",
   "execution_count": null,
   "metadata": {},
   "outputs": [],
   "source": []
  }
 ],
 "metadata": {
  "kernelspec": {
   "display_name": "Python 2",
   "language": "python",
   "name": "python2"
  },
  "language_info": {
   "codemirror_mode": {
    "name": "ipython",
    "version": 2
   },
   "file_extension": ".py",
   "mimetype": "text/x-python",
   "name": "python",
   "nbconvert_exporter": "python",
   "pygments_lexer": "ipython2",
   "version": "2.7.12"
  }
 },
 "nbformat": 4,
 "nbformat_minor": 2
}
